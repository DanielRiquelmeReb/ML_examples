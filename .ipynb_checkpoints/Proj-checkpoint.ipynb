{
 "cells": [
  {
   "cell_type": "code",
   "execution_count": 4,
   "id": "e33eb13a",
   "metadata": {},
   "outputs": [],
   "source": [
    "import pandas as pd\n",
    "from sklearn.tree import DecisionTreeClassifier\n",
    "from sklearn.model_selection import train_test_split\n",
    "from sklearn.metrics import accuracy_score\n",
    "\n",
    "#MUST BE IMPORTED LIKE THIS, CREATES PERSISENT MODEL BINARY\n",
    "import joblib\n",
    "\n",
    "#MODEL VISUALIZATION LIBARY\n",
    "from sklearn import tree\n",
    "\n",
    "#MODEL TRAINING\n",
    "# music_data = pd.read_csv(\"music.csv\")\n",
    "# X = music_data.drop(columns=['genre'])\n",
    "# y = music_data['genre']\n",
    "# X_train,X_test,y_train,y_test = train_test_split(X,y,test_size = 0.2)\n",
    "\n",
    "# model = DecisionTreeClassifier()\n",
    "# model.fit(X_train,y_train)\n",
    "# predictions = model.predict(X_test)\n",
    "\n",
    "#MODEL PERSISTEN CREATION\n",
    "# joblib.dump(model,'music_recommender.joblib')\n",
    "\n",
    "#MODEL LOADING\n",
    "loaded_model = joblib.load(\"music_recommender.joblib\")\n",
    "tree.export_graphviz(model,out_file=\"music_recommender.dot\",feature_names = ['age','gender'],class_names = \n",
    "                    sorted(y.unique()),\n",
    "                    label = 'all',\n",
    "                    rounded = True,\n",
    "                    filled = True)\n",
    "\n",
    "# prediction = model.predict([ [21,1] , [22,0]])\n",
    "\n",
    "\n",
    "# score = accuracy_score(y_test, predictions)\n",
    "# score"
   ]
  }
 ],
 "metadata": {
  "kernelspec": {
   "display_name": "Python 3 (ipykernel)",
   "language": "python",
   "name": "python3"
  },
  "language_info": {
   "codemirror_mode": {
    "name": "ipython",
    "version": 3
   },
   "file_extension": ".py",
   "mimetype": "text/x-python",
   "name": "python",
   "nbconvert_exporter": "python",
   "pygments_lexer": "ipython3",
   "version": "3.9.7"
  }
 },
 "nbformat": 4,
 "nbformat_minor": 5
}
